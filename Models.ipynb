{
 "cells": [
  {
   "cell_type": "code",
   "execution_count": 28,
   "id": "79a16b0b",
   "metadata": {},
   "outputs": [],
   "source": [
    "import pandas as pd\n",
    "import matplotlib.pyplot as plt\n",
    "import seaborn as sns\n",
    "import numpy as np\n",
    "from sklearn.ensemble import RandomForestClassifier\n",
    "from sklearn.model_selection import train_test_split, cross_validate"
   ]
  },
  {
   "cell_type": "code",
   "execution_count": 29,
   "id": "b2448257",
   "metadata": {},
   "outputs": [],
   "source": [
    "koi = pd.read_csv(\n",
    "    \"./data/koi.csv\",\n",
    "    comment='#',\n",
    "    engine='python'\n",
    ")"
   ]
  },
  {
   "cell_type": "code",
   "execution_count": 21,
   "id": "fbed4b0f",
   "metadata": {},
   "outputs": [],
   "source": [
    "features_of_interest = [\n",
    "    \"koi_score\", \"koi_fpflag_nt\", \"koi_max_mult_ev\", \"koi_dicco_msky\", \"koi_fpflag_co\", \"koi_fwm_stat_sig\",\n",
    "    \"koi_fpflag_ss\", \"koi_dikco_msky\", \"koi_model_snr\", \"koi_prad\", \"koi_smet_err2\", \"koi_ror\",\n",
    "    \"koi_fwm_sdec_err\", \"koi_duration_err1\", \"koi_dor\", \"koi_duration_err2\", \"koi_prad_err2\", \"koi_fwm_sra_err\",\n",
    "    \"koi_time0bk_err1\", \"koi_dicco_msky_err\", \"koi_time0_err1\", \"koi_steff_err2\", \"koi_fwm_srao_err\", \"koi_count\",\n",
    "    \"koi_prad_err1\", \"koi_dikco_mra_err\", \"koi_time0bk_err2\", \"koi_fwm_sdeco_err\", \"koi_dikco_msky_err\", \"koi_steff_err1\",\n",
    "    \"koi_max_sngle_ev\", \"koi_fpflag_ec\", \"koi_dikco_mdec_err\", \"koi_srho_err2\", \"koi_incl\", \"koi_dicco_mdec_err\",\n",
    "    \"koi_insol_err1\", \"koi_dor_err1\", \"koi_sma\", \"koi_dor_err2\", \"koi_insol_err2\", \"koi_num_transits\",\n",
    "    \"koi_period\", \"koi_ror_err2\", \"koi_dicco_mdec\", \"koi_bin_oedp_sig\", \"koi_teq\", \"koi_fwm_pdeco_err\",\n",
    "    \"koi_period_err1\", \"koi_dikco_mdec\", \"koi_period_err2\", \"koi_time0_err2\", \"koi_duration\", \"koi_srho_err1\",\n",
    "    \"koi_ror_err1\", \"koi_srho\", \"koi_depth\", \"koi_impact\", \"koi_dikco_mra\", \"koi_insol\",\n",
    "    \"koi_dicco_mra\", \"koi_fwm_prao_err\", \"koi_fwm_sdeco\", \"koi_srad_err1\", \"koi_dicco_mra_err\", \"koi_fwm_sdec\",\n",
    "    \"dec\", \"koi_srad_err2\", \"koi_time0bk\", \"koi_depth_err2\", \"koi_slogg_err2\", \"koi_fwm_srao\",\n",
    "    \"koi_impact_err1\", \"ra\", \"koi_impact_err2\", \"koi_smass_err1\", \"koi_time0\", \"koi_smet\",\n",
    "    \"koi_zmag\", \"koi_smet_err1\", \"koi_gmag\", \"koi_smass_err2\", \"koi_fwm_prao\", \"koi_imag\",\n",
    "    \"koi_srad\", \"koi_depth_err1\", \"koi_kmag\", \"koi_slogg\", \"koi_jmag\", \"koi_fwm_sra\",\n",
    "    \"koi_fwm_pdeco\", \"koi_hmag\", \"koi_steff\", \"koi_rmag\", \"koi_kepmag\", \"koi_ldm_coeff1\",\n",
    "    \"koi_smass\", \"koi_ldm_coeff2\", \"koi_slogg_err1\", \"koi_tce_plnt_num\"\n",
    "]"
   ]
  },
  {
   "cell_type": "code",
   "execution_count": 22,
   "id": "fdf1b591",
   "metadata": {},
   "outputs": [],
   "source": [
    "X = koi[features_of_interest]"
   ]
  },
  {
   "cell_type": "code",
   "execution_count": 27,
   "id": "f03f4154",
   "metadata": {},
   "outputs": [
    {
     "data": {
      "text/plain": [
       "Index(['koi_score', 'koi_max_mult_ev', 'koi_dicco_msky', 'koi_fwm_stat_sig',\n",
       "       'koi_dikco_msky', 'koi_model_snr', 'koi_prad', 'koi_smet_err2',\n",
       "       'koi_ror', 'koi_fwm_sdec_err', 'koi_duration_err1', 'koi_dor',\n",
       "       'koi_duration_err2', 'koi_prad_err2', 'koi_fwm_sra_err',\n",
       "       'koi_time0bk_err1', 'koi_dicco_msky_err', 'koi_time0_err1',\n",
       "       'koi_steff_err2', 'koi_fwm_srao_err', 'koi_prad_err1',\n",
       "       'koi_dikco_mra_err', 'koi_time0bk_err2', 'koi_fwm_sdeco_err',\n",
       "       'koi_dikco_msky_err', 'koi_steff_err1', 'koi_max_sngle_ev',\n",
       "       'koi_dikco_mdec_err', 'koi_srho_err2', 'koi_incl', 'koi_dicco_mdec_err',\n",
       "       'koi_insol_err1', 'koi_dor_err1', 'koi_sma', 'koi_dor_err2',\n",
       "       'koi_insol_err2', 'koi_num_transits', 'koi_ror_err2', 'koi_dicco_mdec',\n",
       "       'koi_bin_oedp_sig', 'koi_teq', 'koi_fwm_pdeco_err', 'koi_period_err1',\n",
       "       'koi_dikco_mdec', 'koi_period_err2', 'koi_time0_err2', 'koi_srho_err1',\n",
       "       'koi_ror_err1', 'koi_srho', 'koi_depth', 'koi_impact', 'koi_dikco_mra',\n",
       "       'koi_insol', 'koi_dicco_mra', 'koi_fwm_prao_err', 'koi_fwm_sdeco',\n",
       "       'koi_srad_err1', 'koi_dicco_mra_err', 'koi_fwm_sdec', 'koi_srad_err2',\n",
       "       'koi_depth_err2', 'koi_slogg_err2', 'koi_fwm_srao', 'koi_impact_err1',\n",
       "       'koi_impact_err2', 'koi_smass_err1', 'koi_smet', 'koi_zmag',\n",
       "       'koi_smet_err1', 'koi_gmag', 'koi_smass_err2', 'koi_fwm_prao',\n",
       "       'koi_imag', 'koi_srad', 'koi_depth_err1', 'koi_kmag', 'koi_slogg',\n",
       "       'koi_jmag', 'koi_fwm_sra', 'koi_fwm_pdeco', 'koi_hmag', 'koi_steff',\n",
       "       'koi_rmag', 'koi_kepmag', 'koi_ldm_coeff1', 'koi_smass',\n",
       "       'koi_ldm_coeff2', 'koi_slogg_err1', 'koi_tce_plnt_num'],\n",
       "      dtype='object')"
      ]
     },
     "execution_count": 27,
     "metadata": {},
     "output_type": "execute_result"
    }
   ],
   "source": [
    "X.columns[X.isna().any()]"
   ]
  },
  {
   "cell_type": "code",
   "execution_count": 31,
   "id": "f90934a4",
   "metadata": {},
   "outputs": [
    {
     "data": {
      "text/plain": [
       "koi_score           1510\n",
       "koi_fpflag_nt          0\n",
       "koi_max_mult_ev     1142\n",
       "koi_dicco_msky       599\n",
       "koi_fpflag_co          0\n",
       "                    ... \n",
       "koi_ldm_coeff1       363\n",
       "koi_smass            363\n",
       "koi_ldm_coeff2       363\n",
       "koi_slogg_err1       468\n",
       "koi_tce_plnt_num     346\n",
       "Length: 100, dtype: int64"
      ]
     },
     "execution_count": 31,
     "metadata": {},
     "output_type": "execute_result"
    }
   ],
   "source": [
    "X.isna().sum()"
   ]
  }
 ],
 "metadata": {
  "kernelspec": {
   "display_name": "Python 3 (ipykernel)",
   "language": "python",
   "name": "python3"
  },
  "language_info": {
   "codemirror_mode": {
    "name": "ipython",
    "version": 3
   },
   "file_extension": ".py",
   "mimetype": "text/x-python",
   "name": "python",
   "nbconvert_exporter": "python",
   "pygments_lexer": "ipython3",
   "version": "3.11.5"
  }
 },
 "nbformat": 4,
 "nbformat_minor": 5
}

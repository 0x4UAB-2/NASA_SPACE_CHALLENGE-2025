{
 "cells": [
  {
   "cell_type": "code",
   "execution_count": 8,
   "id": "5e38ff12",
   "metadata": {},
   "outputs": [],
   "source": [
    "import pandas as pd\n",
    "from sklearn.linear_model import Perceptron \n",
    "from sklearn.model_selection import train_test_split\n",
    "from sklearn.preprocessing import StandardScaler\n",
    "from sklearn.metrics import accuracy_score\n",
    "from sklearn.ensemble import AdaBoostClassifier"
   ]
  },
  {
   "cell_type": "code",
   "execution_count": 3,
   "id": "7de76f77",
   "metadata": {},
   "outputs": [],
   "source": [
    "koi = pd.read_csv(\n",
    "    \"./data/koi.csv\",\n",
    "    comment='#',\n",
    "    engine='python'\n",
    ")"
   ]
  },
  {
   "cell_type": "code",
   "execution_count": 4,
   "id": "c83ea87e",
   "metadata": {},
   "outputs": [
    {
     "data": {
      "text/plain": [
       "Index(['koi_score', 'koi_disposition', 'koi_period', 'koi_time0bk',\n",
       "       'koi_time0', 'koi_eccen', 'koi_period_err1', 'koi_period_err2',\n",
       "       'koi_duration', 'koi_depth', 'koi_impact', 'koi_prad', 'koi_insol',\n",
       "       'koi_teq', 'koi_model_snr', 'koi_srad', 'koi_smass', 'koi_steff',\n",
       "       'koi_smet', 'koi_slogg'],\n",
       "      dtype='object')"
      ]
     },
     "execution_count": 4,
     "metadata": {},
     "output_type": "execute_result"
    }
   ],
   "source": [
    "features_of_interest = [\n",
    "    # Probabilidad / etiqueta\n",
    "    \"koi_score\",          # Probabilidad de que un candidato sea un exoplaneta real\n",
    "    \"koi_disposition\",    # Estado del candidato: CONFIRMED / CANDIDATE / FALSE POSITIVE\n",
    "    \n",
    "    # Atributos orbitales\n",
    "    \"koi_period\",         # Período orbital del candidato en días\n",
    "    \"koi_time0bk\",        # Época de tránsito (tiempo central)\n",
    "    \"koi_time0\",          # Otra referencia temporal del tránsito\n",
    "    \"koi_eccen\",          # Excentricidad orbital\n",
    "    \"koi_period_err1\",    # Incertidumbre superior del período orbital\n",
    "    \"koi_period_err2\",    # Incertidumbre inferior del período orbital\n",
    "    \n",
    "    # Atributos del tránsito\n",
    "    \"koi_duration\",       # Duración del tránsito en horas\n",
    "    \"koi_depth\",          # Profundidad del tránsito (ppm)\n",
    "    \"koi_impact\",         # Parámetro de impacto del tránsito\n",
    "    \"koi_prad\",           # Radio estimado del planeta en radios terrestres\n",
    "    \"koi_insol\",          # Insolación recibida por el planeta (flujo terrestre)\n",
    "    \"koi_teq\",            # Temperatura de equilibrio estimada del planeta (K)\n",
    "    \"koi_model_snr\",      # Relación señal/ruido del modelo de tránsito\n",
    "    \n",
    "    # Atributos del sistema estelar\n",
    "    \"koi_srad\",           # Radio estelar (en radios solares)\n",
    "    \"koi_smass\",          # Masa estelar (en masas solares)\n",
    "    \"koi_steff\",          # Temperatura efectiva de la estrella (K)\n",
    "    \"koi_smet\",           # Metalicidad de la estrella ([Fe/H])\n",
    "    \"koi_slogg\"           # Gravedad superficial de la estrella (cgs)\n",
    "]\n",
    "koi = koi[features_of_interest]\n",
    "koi = koi.fillna(koi.mean(numeric_only=True))\n",
    "koi.columns"
   ]
  },
  {
   "cell_type": "code",
   "execution_count": 6,
   "id": "792bc28e",
   "metadata": {},
   "outputs": [],
   "source": [
    "x_train = koi.drop(columns=[\"koi_disposition\"])\n",
    "y_train = koi[\"koi_disposition\"]\n",
    "X_train, X_test, y_train, y_test = train_test_split(x_train, y_train, test_size=0.2, random_state=40)\n",
    "scaler = StandardScaler()\n",
    "X_train_scaled = scaler.fit_transform(X_train)\n",
    "X_test_scaled = scaler.transform(X_test)"
   ]
  },
  {
   "cell_type": "code",
   "execution_count": null,
   "id": "6c51d5ab",
   "metadata": {},
   "outputs": [
    {
     "name": "stdout",
     "output_type": "stream",
     "text": [
      "Accuracy Perceptron: 0.6152639832723471\n"
     ]
    }
   ],
   "source": [
    "# 3. Entrenar Perceptron (Regresión Logística básica)\n",
    "perceptron = Perceptron(max_iter=1000, random_state=40)\n",
    "perceptron.fit(X_train_scaled, y_train)\n",
    "\n",
    "y_pred_perc = perceptron.predict(X_test_scaled)\n",
    "print(\"Accuracy Perceptron:\", accuracy_score(y_test, y_pred_perc))"
   ]
  },
  {
   "cell_type": "code",
   "execution_count": 13,
   "id": "6a228141",
   "metadata": {},
   "outputs": [
    {
     "data": {
      "text/plain": [
       "0.8243596445373759"
      ]
     },
     "execution_count": 13,
     "metadata": {},
     "output_type": "execute_result"
    }
   ],
   "source": [
    "adaboost = AdaBoostClassifier(n_estimators=1000, random_state=0)\n",
    "adaboost.fit(X_train_scaled, y_train)\n",
    "\n",
    "y_pred_ada = adaboost.predict(X_test_scaled)\n",
    "accuracy_score(y_test, y_pred_ada)"
   ]
  },
  {
   "cell_type": "code",
   "execution_count": null,
   "id": "f8f477fe",
   "metadata": {},
   "outputs": [],
   "source": []
  }
 ],
 "metadata": {
  "kernelspec": {
   "display_name": "Python3.13",
   "language": "python",
   "name": "python3"
  },
  "language_info": {
   "codemirror_mode": {
    "name": "ipython",
    "version": 3
   },
   "file_extension": ".py",
   "mimetype": "text/x-python",
   "name": "python",
   "nbconvert_exporter": "python",
   "pygments_lexer": "ipython3",
   "version": "3.13.5"
  }
 },
 "nbformat": 4,
 "nbformat_minor": 5
}
